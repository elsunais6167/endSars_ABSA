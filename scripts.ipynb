{
 "cells": [
  {
   "cell_type": "code",
   "execution_count": 10,
   "metadata": {},
   "outputs": [],
   "source": [
    "# Importing the libraries\n",
    "import pandas as pd\n",
    "import numpy as np\n",
    "from IPython.display import display\n",
    "\n",
    "import matplotlib.pyplot as plt\n",
    "import re\n",
    "import string\n",
    "\n",
    "import spacy\n",
    "from textblob import TextBlob\n",
    "\n",
    "from collections import Counter\n",
    "\n",
    "import seaborn as sns\n",
    "import plotly.express as px\n",
    "\n",
    "sns.set(style=\"darkgrid\")\n",
    "\n",
    "# Load spaCy model\n",
    "nlp = spacy.load(\"en_core_web_sm\")\n",
    "stop_words = nlp.Defaults.stop_words"
   ]
  },
  {
   "cell_type": "code",
   "execution_count": 11,
   "metadata": {},
   "outputs": [
    {
     "data": {
      "text/html": [
       "<div>\n",
       "<style scoped>\n",
       "    .dataframe tbody tr th:only-of-type {\n",
       "        vertical-align: middle;\n",
       "    }\n",
       "\n",
       "    .dataframe tbody tr th {\n",
       "        vertical-align: top;\n",
       "    }\n",
       "\n",
       "    .dataframe thead th {\n",
       "        text-align: right;\n",
       "    }\n",
       "</style>\n",
       "<table border=\"1\" class=\"dataframe\">\n",
       "  <thead>\n",
       "    <tr style=\"text-align: right;\">\n",
       "      <th></th>\n",
       "      <th>Unnamed: 0</th>\n",
       "      <th>url</th>\n",
       "      <th>date</th>\n",
       "      <th>content</th>\n",
       "      <th>id</th>\n",
       "      <th>username</th>\n",
       "      <th>outlinks</th>\n",
       "      <th>outlinksss</th>\n",
       "      <th>tcooutlinks</th>\n",
       "      <th>tcooutlinksss</th>\n",
       "    </tr>\n",
       "  </thead>\n",
       "  <tbody>\n",
       "    <tr>\n",
       "      <th>0</th>\n",
       "      <td>0</td>\n",
       "      <td>https://twitter.com/hurbhiaghelee/status/13852...</td>\n",
       "      <td>2021-04-22 18:28:26+00:00</td>\n",
       "      <td>This is the highest form of intimidation\\nWhat...</td>\n",
       "      <td>1385299471123238912</td>\n",
       "      <td>hurbhiaghelee</td>\n",
       "      <td>['https://twitter.com/AmaiweLove/status/138519...</td>\n",
       "      <td>https://twitter.com/AmaiweLove/status/13851900...</td>\n",
       "      <td>['https://t.co/xxdTK0BmQB']</td>\n",
       "      <td>https://t.co/xxdTK0BmQB</td>\n",
       "    </tr>\n",
       "    <tr>\n",
       "      <th>1</th>\n",
       "      <td>1</td>\n",
       "      <td>https://twitter.com/AlukoJoseph5/status/138524...</td>\n",
       "      <td>2021-04-22 15:07:05+00:00</td>\n",
       "      <td>Why is it taking a life long time for @MBuhari...</td>\n",
       "      <td>1385248799770267650</td>\n",
       "      <td>AlukoJoseph5</td>\n",
       "      <td>[]</td>\n",
       "      <td>NaN</td>\n",
       "      <td>[]</td>\n",
       "      <td>NaN</td>\n",
       "    </tr>\n",
       "    <tr>\n",
       "      <th>2</th>\n",
       "      <td>2</td>\n",
       "      <td>https://twitter.com/omofuma_Elijah/status/1385...</td>\n",
       "      <td>2021-04-22 10:13:20+00:00</td>\n",
       "      <td>Even Desmond Elliot is quite , ,,, what is tha...</td>\n",
       "      <td>1385174876428902400</td>\n",
       "      <td>omofuma_Elijah</td>\n",
       "      <td>['https://twitter.com/vhic_tore/status/1385141...</td>\n",
       "      <td>https://twitter.com/vhic_tore/status/138514152...</td>\n",
       "      <td>['https://t.co/RsVQ4N8LwM']</td>\n",
       "      <td>https://t.co/RsVQ4N8LwM</td>\n",
       "    </tr>\n",
       "    <tr>\n",
       "      <th>3</th>\n",
       "      <td>3</td>\n",
       "      <td>https://twitter.com/FelixOdohoedi/status/13851...</td>\n",
       "      <td>2021-04-22 09:48:04+00:00</td>\n",
       "      <td>When will CBN freeze the account of @DrIsaPant...</td>\n",
       "      <td>1385168517104869378</td>\n",
       "      <td>FelixOdohoedi</td>\n",
       "      <td>['https://twitter.com/Imudia_se2/status/138495...</td>\n",
       "      <td>https://twitter.com/Imudia_se2/status/13849543...</td>\n",
       "      <td>['https://t.co/r3vxrbkLdn']</td>\n",
       "      <td>https://t.co/r3vxrbkLdn</td>\n",
       "    </tr>\n",
       "    <tr>\n",
       "      <th>4</th>\n",
       "      <td>4</td>\n",
       "      <td>https://twitter.com/adekzee1/status/1385164392...</td>\n",
       "      <td>2021-04-22 09:31:40+00:00</td>\n",
       "      <td>@Obiejazzyup @YeleSowore @MBuhari @EndSars @mb...</td>\n",
       "      <td>1385164392447238145</td>\n",
       "      <td>adekzee1</td>\n",
       "      <td>[]</td>\n",
       "      <td>NaN</td>\n",
       "      <td>[]</td>\n",
       "      <td>NaN</td>\n",
       "    </tr>\n",
       "  </tbody>\n",
       "</table>\n",
       "</div>"
      ],
      "text/plain": [
       "   Unnamed: 0                                                url  \\\n",
       "0           0  https://twitter.com/hurbhiaghelee/status/13852...   \n",
       "1           1  https://twitter.com/AlukoJoseph5/status/138524...   \n",
       "2           2  https://twitter.com/omofuma_Elijah/status/1385...   \n",
       "3           3  https://twitter.com/FelixOdohoedi/status/13851...   \n",
       "4           4  https://twitter.com/adekzee1/status/1385164392...   \n",
       "\n",
       "                        date  \\\n",
       "0  2021-04-22 18:28:26+00:00   \n",
       "1  2021-04-22 15:07:05+00:00   \n",
       "2  2021-04-22 10:13:20+00:00   \n",
       "3  2021-04-22 09:48:04+00:00   \n",
       "4  2021-04-22 09:31:40+00:00   \n",
       "\n",
       "                                             content                   id  \\\n",
       "0  This is the highest form of intimidation\\nWhat...  1385299471123238912   \n",
       "1  Why is it taking a life long time for @MBuhari...  1385248799770267650   \n",
       "2  Even Desmond Elliot is quite , ,,, what is tha...  1385174876428902400   \n",
       "3  When will CBN freeze the account of @DrIsaPant...  1385168517104869378   \n",
       "4  @Obiejazzyup @YeleSowore @MBuhari @EndSars @mb...  1385164392447238145   \n",
       "\n",
       "         username                                           outlinks  \\\n",
       "0   hurbhiaghelee  ['https://twitter.com/AmaiweLove/status/138519...   \n",
       "1    AlukoJoseph5                                                 []   \n",
       "2  omofuma_Elijah  ['https://twitter.com/vhic_tore/status/1385141...   \n",
       "3   FelixOdohoedi  ['https://twitter.com/Imudia_se2/status/138495...   \n",
       "4        adekzee1                                                 []   \n",
       "\n",
       "                                          outlinksss  \\\n",
       "0  https://twitter.com/AmaiweLove/status/13851900...   \n",
       "1                                                NaN   \n",
       "2  https://twitter.com/vhic_tore/status/138514152...   \n",
       "3  https://twitter.com/Imudia_se2/status/13849543...   \n",
       "4                                                NaN   \n",
       "\n",
       "                   tcooutlinks            tcooutlinksss  \n",
       "0  ['https://t.co/xxdTK0BmQB']  https://t.co/xxdTK0BmQB  \n",
       "1                           []                      NaN  \n",
       "2  ['https://t.co/RsVQ4N8LwM']  https://t.co/RsVQ4N8LwM  \n",
       "3  ['https://t.co/r3vxrbkLdn']  https://t.co/r3vxrbkLdn  \n",
       "4                           []                      NaN  "
      ]
     },
     "execution_count": 11,
     "metadata": {},
     "output_type": "execute_result"
    }
   ],
   "source": [
    "# Reading data from csv file\n",
    "dataset = pd.read_csv(\"twitterEndSars.csv\")\n",
    "dataset.head()"
   ]
  },
  {
   "cell_type": "code",
   "execution_count": 12,
   "metadata": {},
   "outputs": [
    {
     "data": {
      "text/plain": [
       "(9737, 10)"
      ]
     },
     "execution_count": 12,
     "metadata": {},
     "output_type": "execute_result"
    }
   ],
   "source": [
    "# Data shape\n",
    "dataset.shape"
   ]
  },
  {
   "cell_type": "code",
   "execution_count": 13,
   "metadata": {},
   "outputs": [
    {
     "data": {
      "text/html": [
       "<div>\n",
       "<style scoped>\n",
       "    .dataframe tbody tr th:only-of-type {\n",
       "        vertical-align: middle;\n",
       "    }\n",
       "\n",
       "    .dataframe tbody tr th {\n",
       "        vertical-align: top;\n",
       "    }\n",
       "\n",
       "    .dataframe thead th {\n",
       "        text-align: right;\n",
       "    }\n",
       "</style>\n",
       "<table border=\"1\" class=\"dataframe\">\n",
       "  <thead>\n",
       "    <tr style=\"text-align: right;\">\n",
       "      <th></th>\n",
       "      <th>username</th>\n",
       "      <th>date</th>\n",
       "      <th>content</th>\n",
       "    </tr>\n",
       "  </thead>\n",
       "  <tbody>\n",
       "    <tr>\n",
       "      <th>0</th>\n",
       "      <td>hurbhiaghelee</td>\n",
       "      <td>2021-04-22 18:28:26+00:00</td>\n",
       "      <td>This is the highest form of intimidation\\nWhat...</td>\n",
       "    </tr>\n",
       "    <tr>\n",
       "      <th>1</th>\n",
       "      <td>AlukoJoseph5</td>\n",
       "      <td>2021-04-22 15:07:05+00:00</td>\n",
       "      <td>Why is it taking a life long time for @MBuhari...</td>\n",
       "    </tr>\n",
       "    <tr>\n",
       "      <th>2</th>\n",
       "      <td>omofuma_Elijah</td>\n",
       "      <td>2021-04-22 10:13:20+00:00</td>\n",
       "      <td>Even Desmond Elliot is quite , ,,, what is tha...</td>\n",
       "    </tr>\n",
       "    <tr>\n",
       "      <th>3</th>\n",
       "      <td>FelixOdohoedi</td>\n",
       "      <td>2021-04-22 09:48:04+00:00</td>\n",
       "      <td>When will CBN freeze the account of @DrIsaPant...</td>\n",
       "    </tr>\n",
       "    <tr>\n",
       "      <th>4</th>\n",
       "      <td>adekzee1</td>\n",
       "      <td>2021-04-22 09:31:40+00:00</td>\n",
       "      <td>@Obiejazzyup @YeleSowore @MBuhari @EndSars @mb...</td>\n",
       "    </tr>\n",
       "  </tbody>\n",
       "</table>\n",
       "</div>"
      ],
      "text/plain": [
       "         username                       date  \\\n",
       "0   hurbhiaghelee  2021-04-22 18:28:26+00:00   \n",
       "1    AlukoJoseph5  2021-04-22 15:07:05+00:00   \n",
       "2  omofuma_Elijah  2021-04-22 10:13:20+00:00   \n",
       "3   FelixOdohoedi  2021-04-22 09:48:04+00:00   \n",
       "4        adekzee1  2021-04-22 09:31:40+00:00   \n",
       "\n",
       "                                             content  \n",
       "0  This is the highest form of intimidation\\nWhat...  \n",
       "1  Why is it taking a life long time for @MBuhari...  \n",
       "2  Even Desmond Elliot is quite , ,,, what is tha...  \n",
       "3  When will CBN freeze the account of @DrIsaPant...  \n",
       "4  @Obiejazzyup @YeleSowore @MBuhari @EndSars @mb...  "
      ]
     },
     "execution_count": 13,
     "metadata": {},
     "output_type": "execute_result"
    }
   ],
   "source": [
    "# Selecting relevant columns\n",
    "needed_columns = ['username', 'date', 'content']\n",
    "dataset = dataset[needed_columns]\n",
    "dataset.head()"
   ]
  },
  {
   "cell_type": "code",
   "execution_count": 14,
   "metadata": {},
   "outputs": [
    {
     "data": {
      "text/html": [
       "<div>\n",
       "<style scoped>\n",
       "    .dataframe tbody tr th:only-of-type {\n",
       "        vertical-align: middle;\n",
       "    }\n",
       "\n",
       "    .dataframe tbody tr th {\n",
       "        vertical-align: top;\n",
       "    }\n",
       "\n",
       "    .dataframe thead th {\n",
       "        text-align: right;\n",
       "    }\n",
       "</style>\n",
       "<table border=\"1\" class=\"dataframe\">\n",
       "  <thead>\n",
       "    <tr style=\"text-align: right;\">\n",
       "      <th></th>\n",
       "      <th>username</th>\n",
       "      <th>date</th>\n",
       "      <th>content</th>\n",
       "    </tr>\n",
       "  </thead>\n",
       "  <tbody>\n",
       "    <tr>\n",
       "      <th>0</th>\n",
       "      <td>4928</td>\n",
       "      <td>2021-04-22</td>\n",
       "      <td>This is the highest form of intimidation\\nWhat...</td>\n",
       "    </tr>\n",
       "    <tr>\n",
       "      <th>1</th>\n",
       "      <td>382</td>\n",
       "      <td>2021-04-22</td>\n",
       "      <td>Why is it taking a life long time for @MBuhari...</td>\n",
       "    </tr>\n",
       "    <tr>\n",
       "      <th>2</th>\n",
       "      <td>5768</td>\n",
       "      <td>2021-04-22</td>\n",
       "      <td>Even Desmond Elliot is quite , ,,, what is tha...</td>\n",
       "    </tr>\n",
       "    <tr>\n",
       "      <th>3</th>\n",
       "      <td>1441</td>\n",
       "      <td>2021-04-22</td>\n",
       "      <td>When will CBN freeze the account of @DrIsaPant...</td>\n",
       "    </tr>\n",
       "    <tr>\n",
       "      <th>4</th>\n",
       "      <td>4045</td>\n",
       "      <td>2021-04-22</td>\n",
       "      <td>@Obiejazzyup @YeleSowore @MBuhari @EndSars @mb...</td>\n",
       "    </tr>\n",
       "  </tbody>\n",
       "</table>\n",
       "</div>"
      ],
      "text/plain": [
       "   username        date                                            content\n",
       "0      4928  2021-04-22  This is the highest form of intimidation\\nWhat...\n",
       "1       382  2021-04-22  Why is it taking a life long time for @MBuhari...\n",
       "2      5768  2021-04-22  Even Desmond Elliot is quite , ,,, what is tha...\n",
       "3      1441  2021-04-22  When will CBN freeze the account of @DrIsaPant...\n",
       "4      4045  2021-04-22  @Obiejazzyup @YeleSowore @MBuhari @EndSars @mb..."
      ]
     },
     "execution_count": 14,
     "metadata": {},
     "output_type": "execute_result"
    }
   ],
   "source": [
    "# Categorizing username\n",
    "dataset.username = dataset.username.astype('category')\n",
    "dataset.username = dataset.username.cat.codes\n",
    "dataset.date = pd.to_datetime(dataset.date).dt.date  # post_date\n",
    "dataset.head()"
   ]
  },
  {
   "cell_type": "code",
   "execution_count": 24,
   "metadata": {},
   "outputs": [
    {
     "data": {
      "text/html": [
       "<div>\n",
       "<style scoped>\n",
       "    .dataframe tbody tr th:only-of-type {\n",
       "        vertical-align: middle;\n",
       "    }\n",
       "\n",
       "    .dataframe tbody tr th {\n",
       "        vertical-align: top;\n",
       "    }\n",
       "\n",
       "    .dataframe thead th {\n",
       "        text-align: right;\n",
       "    }\n",
       "</style>\n",
       "<table border=\"1\" class=\"dataframe\">\n",
       "  <thead>\n",
       "    <tr style=\"text-align: right;\">\n",
       "      <th></th>\n",
       "      <th>username</th>\n",
       "      <th>date</th>\n",
       "      <th>content</th>\n",
       "      <th>preprocess_content</th>\n",
       "    </tr>\n",
       "  </thead>\n",
       "  <tbody>\n",
       "    <tr>\n",
       "      <th>0</th>\n",
       "      <td>4928</td>\n",
       "      <td>2021-04-22</td>\n",
       "      <td>This is the highest form of intimidation\\nWhat...</td>\n",
       "      <td>highest form intimidation offence commit answe...</td>\n",
       "    </tr>\n",
       "    <tr>\n",
       "      <th>1</th>\n",
       "      <td>382</td>\n",
       "      <td>2021-04-22</td>\n",
       "      <td>Why is it taking a life long time for @MBuhari...</td>\n",
       "      <td>taking life long time mbuhari sack drisapantam...</td>\n",
       "    </tr>\n",
       "    <tr>\n",
       "      <th>2</th>\n",
       "      <td>5768</td>\n",
       "      <td>2021-04-22</td>\n",
       "      <td>Even Desmond Elliot is quite , ,,, what is tha...</td>\n",
       "      <td>desmond elliot womans look like jellof rice wa...</td>\n",
       "    </tr>\n",
       "    <tr>\n",
       "      <th>3</th>\n",
       "      <td>1441</td>\n",
       "      <td>2021-04-22</td>\n",
       "      <td>When will CBN freeze the account of @DrIsaPant...</td>\n",
       "      <td>cbn freeze account drisapantami cbn quick free...</td>\n",
       "    </tr>\n",
       "    <tr>\n",
       "      <th>4</th>\n",
       "      <td>4045</td>\n",
       "      <td>2021-04-22</td>\n",
       "      <td>@Obiejazzyup @YeleSowore @MBuhari @EndSars @mb...</td>\n",
       "      <td>obiejazzyup yelesowore mbuhari endsars mbujari...</td>\n",
       "    </tr>\n",
       "  </tbody>\n",
       "</table>\n",
       "</div>"
      ],
      "text/plain": [
       "   username        date                                            content  \\\n",
       "0      4928  2021-04-22  This is the highest form of intimidation\\nWhat...   \n",
       "1       382  2021-04-22  Why is it taking a life long time for @MBuhari...   \n",
       "2      5768  2021-04-22  Even Desmond Elliot is quite , ,,, what is tha...   \n",
       "3      1441  2021-04-22  When will CBN freeze the account of @DrIsaPant...   \n",
       "4      4045  2021-04-22  @Obiejazzyup @YeleSowore @MBuhari @EndSars @mb...   \n",
       "\n",
       "                                  preprocess_content  \n",
       "0  highest form intimidation offence commit answe...  \n",
       "1  taking life long time mbuhari sack drisapantam...  \n",
       "2  desmond elliot womans look like jellof rice wa...  \n",
       "3  cbn freeze account drisapantami cbn quick free...  \n",
       "4  obiejazzyup yelesowore mbuhari endsars mbujari...  "
      ]
     },
     "execution_count": 24,
     "metadata": {},
     "output_type": "execute_result"
    }
   ],
   "source": [
    "# Pre-processing text colmns\n",
    "\n",
    "def preprocess_texts(dataset):\n",
    "    #removing urls\n",
    "    def remove_url(text):\n",
    "        return re.sub(r'http\\S+', '', str(text))\n",
    "    \n",
    "    #removing punctuations\n",
    "    def remove_punctuation(text):\n",
    "        return text.translate(str.maketrans('', '', string.punctuation))\n",
    "    \n",
    "    #removing stopwords (is, they, them, to, the etc)\n",
    "    def remove_stopwords(text):\n",
    "        return ' '.join([word for word in text.split() if word not in stop_words])\n",
    "    \n",
    "    # Combine all preprocessing steps\n",
    "    def preprocess(text):\n",
    "        text = remove_url(text)\n",
    "        text = text.lower()\n",
    "        text = remove_punctuation(text)\n",
    "        text = remove_stopwords(text)\n",
    "        return text\n",
    "\n",
    "    dataset['preprocess_content'] = dataset['content'].apply(preprocess)\n",
    "    \n",
    "    return dataset\n",
    "\n",
    "dataset = preprocess_texts(dataset)\n",
    "dataset.head()"
   ]
  },
  {
   "cell_type": "code",
   "execution_count": 25,
   "metadata": {},
   "outputs": [
    {
     "data": {
      "text/html": [
       "<div>\n",
       "<style scoped>\n",
       "    .dataframe tbody tr th:only-of-type {\n",
       "        vertical-align: middle;\n",
       "    }\n",
       "\n",
       "    .dataframe tbody tr th {\n",
       "        vertical-align: top;\n",
       "    }\n",
       "\n",
       "    .dataframe thead th {\n",
       "        text-align: right;\n",
       "    }\n",
       "</style>\n",
       "<table border=\"1\" class=\"dataframe\">\n",
       "  <thead>\n",
       "    <tr style=\"text-align: right;\">\n",
       "      <th></th>\n",
       "      <th>username</th>\n",
       "      <th>date</th>\n",
       "      <th>content</th>\n",
       "      <th>preprocess_content</th>\n",
       "    </tr>\n",
       "  </thead>\n",
       "  <tbody>\n",
       "    <tr>\n",
       "      <th>0</th>\n",
       "      <td>4928</td>\n",
       "      <td>2021-04-22</td>\n",
       "      <td>This is the highest form of intimidation\\nWhat...</td>\n",
       "      <td>highest form intimidation offence commit answe...</td>\n",
       "    </tr>\n",
       "    <tr>\n",
       "      <th>1</th>\n",
       "      <td>382</td>\n",
       "      <td>2021-04-22</td>\n",
       "      <td>Why is it taking a life long time for @MBuhari...</td>\n",
       "      <td>taking life long time mbuhari sack drisapantam...</td>\n",
       "    </tr>\n",
       "    <tr>\n",
       "      <th>2</th>\n",
       "      <td>5768</td>\n",
       "      <td>2021-04-22</td>\n",
       "      <td>Even Desmond Elliot is quite , ,,, what is tha...</td>\n",
       "      <td>desmond elliot womans look like jellof rice wa...</td>\n",
       "    </tr>\n",
       "    <tr>\n",
       "      <th>3</th>\n",
       "      <td>1441</td>\n",
       "      <td>2021-04-22</td>\n",
       "      <td>When will CBN freeze the account of @DrIsaPant...</td>\n",
       "      <td>cbn freeze account drisapantami cbn quick free...</td>\n",
       "    </tr>\n",
       "    <tr>\n",
       "      <th>4</th>\n",
       "      <td>4045</td>\n",
       "      <td>2021-04-22</td>\n",
       "      <td>@Obiejazzyup @YeleSowore @MBuhari @EndSars @mb...</td>\n",
       "      <td>obiejazzyup yelesowore mbuhari endsars mbujari...</td>\n",
       "    </tr>\n",
       "  </tbody>\n",
       "</table>\n",
       "</div>"
      ],
      "text/plain": [
       "   username        date                                            content  \\\n",
       "0      4928  2021-04-22  This is the highest form of intimidation\\nWhat...   \n",
       "1       382  2021-04-22  Why is it taking a life long time for @MBuhari...   \n",
       "2      5768  2021-04-22  Even Desmond Elliot is quite , ,,, what is tha...   \n",
       "3      1441  2021-04-22  When will CBN freeze the account of @DrIsaPant...   \n",
       "4      4045  2021-04-22  @Obiejazzyup @YeleSowore @MBuhari @EndSars @mb...   \n",
       "\n",
       "                                  preprocess_content  \n",
       "0  highest form intimidation offence commit answe...  \n",
       "1  taking life long time mbuhari sack drisapantam...  \n",
       "2  desmond elliot womans look like jellof rice wa...  \n",
       "3  cbn freeze account drisapantami cbn quick free...  \n",
       "4  obiejazzyup yelesowore mbuhari endsars mbujari...  "
      ]
     },
     "execution_count": 25,
     "metadata": {},
     "output_type": "execute_result"
    }
   ],
   "source": [
    "# remove emoticons, symbols or flags by their codes\n",
    "def remove_emoji(text):\n",
    "    emoji_pattern = re.compile(\"[\"\n",
    "                           u\"\\U0001F600-\\U0001F64F\"  # emoticons\n",
    "                           u\"\\U0001F300-\\U0001F5FF\"  # symbols & pictographs\n",
    "                           u\"\\U0001F680-\\U0001F6FF\"  # transport & map symbols\n",
    "                           u\"\\U0001F1E0-\\U0001F1FF\"  # flags (iOS)\n",
    "                           u\"\\U00002702-\\U000027B0\"\n",
    "                           u\"\\U000024C2-\\U0001F251\"\n",
    "                           \"]+\", flags=re.UNICODE)\n",
    "    return emoji_pattern.sub(r'', text)\n",
    "\n",
    "# applying remove_emoji function on tweets\n",
    "dataset['preprocess_content']=dataset['preprocess_content'].apply(lambda x: remove_emoji(x))\n",
    "dataset.head()"
   ]
  },
  {
   "cell_type": "code",
   "execution_count": 26,
   "metadata": {},
   "outputs": [
    {
     "data": {
      "text/plain": [
       "0       [highest, form, intimidation, offence, commit,...\n",
       "1       [taking, life, long, time, mbuhari, sack, dris...\n",
       "2       [desmond, elliot, womans, look, like, jellof, ...\n",
       "3       [cbn, freeze, account, drisapantami, cbn, quic...\n",
       "4       [obiejazzyup, yelesowore, mbuhari, endsars, mb...\n",
       "                              ...                        \n",
       "9732    [yomishogunle, policengpcrru, policeng, apolog...\n",
       "9733    [government, policeng, policengpcrru, pretend,...\n",
       "9734    [endsars, issues, ending, sars, issue, reorien...\n",
       "9735    [u, handsome, suspect, wear, new, shoe, suspec...\n",
       "9736    [ca, nt, create, change, twitter, organise, ma...\n",
       "Name: preprocess_content, Length: 9737, dtype: object"
      ]
     },
     "execution_count": 26,
     "metadata": {},
     "output_type": "execute_result"
    }
   ],
   "source": [
    "# Tokenization\n",
    "texts = dataset.preprocess_content\n",
    "\n",
    "def tokenize(text):\n",
    "    doc = nlp(text)\n",
    "    return [token.text for token in doc]\n",
    "\n",
    "texts_tokens = texts.apply(tokenize)\n",
    "texts_tokens"
   ]
  },
  {
   "cell_type": "code",
   "execution_count": 27,
   "metadata": {},
   "outputs": [
    {
     "data": {
      "application/vnd.plotly.v1+json": {
       "config": {
        "plotlyServerURL": "https://plot.ly"
       },
       "data": [
        {
         "alignmentgroup": "True",
         "hovertemplate": "Token=%{x}<br>Frequency=%{y}<extra></extra>",
         "legendgroup": "",
         "marker": {
          "color": "#636efa",
          "pattern": {
           "shape": ""
          }
         },
         "name": "",
         "offsetgroup": "",
         "orientation": "v",
         "showlegend": false,
         "textposition": "auto",
         "type": "bar",
         "x": [
          "endsars",
          "mbuhari",
          "nigeria",
          "nt",
          "policeng",
          "people",
          "protest",
          "u",
          "endpolicebrutality",
          "sars",
          "do",
          "need",
          "police",
          "cnnbrk",
          "government",
          "yomishogunle",
          " ",
          "protesters",
          "like",
          "foxnews",
          "ngrpresident",
          "end",
          "know",
          "country",
          "davido",
          "god",
          "yelesowore",
          "endswat",
          "segalink",
          "policengpcrru",
          "dey",
          "killing",
          "want",
          "gbemifizzy",
          "cnni",
          "na",
          "nigerian",
          "youths",
          "nigerians",
          "djkaywise",
          "let",
          "time",
          "d",
          "youth",
          "aljazeera",
          "abc",
          "nydailynews",
          "nypost",
          "arisetvamerica",
          "espn"
         ],
         "xaxis": "x",
         "y": [
          10627,
          1144,
          978,
          958,
          903,
          660,
          600,
          592,
          547,
          511,
          491,
          451,
          435,
          426,
          416,
          412,
          405,
          397,
          387,
          386,
          374,
          364,
          361,
          359,
          354,
          347,
          323,
          318,
          316,
          316,
          309,
          290,
          290,
          287,
          284,
          280,
          277,
          271,
          269,
          255,
          250,
          249,
          248,
          240,
          239,
          238,
          234,
          234,
          233,
          232
         ],
         "yaxis": "y"
        }
       ],
       "layout": {
        "barmode": "relative",
        "legend": {
         "tracegroupgap": 0
        },
        "template": {
         "data": {
          "bar": [
           {
            "error_x": {
             "color": "#2a3f5f"
            },
            "error_y": {
             "color": "#2a3f5f"
            },
            "marker": {
             "line": {
              "color": "#E5ECF6",
              "width": 0.5
             },
             "pattern": {
              "fillmode": "overlay",
              "size": 10,
              "solidity": 0.2
             }
            },
            "type": "bar"
           }
          ],
          "barpolar": [
           {
            "marker": {
             "line": {
              "color": "#E5ECF6",
              "width": 0.5
             },
             "pattern": {
              "fillmode": "overlay",
              "size": 10,
              "solidity": 0.2
             }
            },
            "type": "barpolar"
           }
          ],
          "carpet": [
           {
            "aaxis": {
             "endlinecolor": "#2a3f5f",
             "gridcolor": "white",
             "linecolor": "white",
             "minorgridcolor": "white",
             "startlinecolor": "#2a3f5f"
            },
            "baxis": {
             "endlinecolor": "#2a3f5f",
             "gridcolor": "white",
             "linecolor": "white",
             "minorgridcolor": "white",
             "startlinecolor": "#2a3f5f"
            },
            "type": "carpet"
           }
          ],
          "choropleth": [
           {
            "colorbar": {
             "outlinewidth": 0,
             "ticks": ""
            },
            "type": "choropleth"
           }
          ],
          "contour": [
           {
            "colorbar": {
             "outlinewidth": 0,
             "ticks": ""
            },
            "colorscale": [
             [
              0,
              "#0d0887"
             ],
             [
              0.1111111111111111,
              "#46039f"
             ],
             [
              0.2222222222222222,
              "#7201a8"
             ],
             [
              0.3333333333333333,
              "#9c179e"
             ],
             [
              0.4444444444444444,
              "#bd3786"
             ],
             [
              0.5555555555555556,
              "#d8576b"
             ],
             [
              0.6666666666666666,
              "#ed7953"
             ],
             [
              0.7777777777777778,
              "#fb9f3a"
             ],
             [
              0.8888888888888888,
              "#fdca26"
             ],
             [
              1,
              "#f0f921"
             ]
            ],
            "type": "contour"
           }
          ],
          "contourcarpet": [
           {
            "colorbar": {
             "outlinewidth": 0,
             "ticks": ""
            },
            "type": "contourcarpet"
           }
          ],
          "heatmap": [
           {
            "colorbar": {
             "outlinewidth": 0,
             "ticks": ""
            },
            "colorscale": [
             [
              0,
              "#0d0887"
             ],
             [
              0.1111111111111111,
              "#46039f"
             ],
             [
              0.2222222222222222,
              "#7201a8"
             ],
             [
              0.3333333333333333,
              "#9c179e"
             ],
             [
              0.4444444444444444,
              "#bd3786"
             ],
             [
              0.5555555555555556,
              "#d8576b"
             ],
             [
              0.6666666666666666,
              "#ed7953"
             ],
             [
              0.7777777777777778,
              "#fb9f3a"
             ],
             [
              0.8888888888888888,
              "#fdca26"
             ],
             [
              1,
              "#f0f921"
             ]
            ],
            "type": "heatmap"
           }
          ],
          "heatmapgl": [
           {
            "colorbar": {
             "outlinewidth": 0,
             "ticks": ""
            },
            "colorscale": [
             [
              0,
              "#0d0887"
             ],
             [
              0.1111111111111111,
              "#46039f"
             ],
             [
              0.2222222222222222,
              "#7201a8"
             ],
             [
              0.3333333333333333,
              "#9c179e"
             ],
             [
              0.4444444444444444,
              "#bd3786"
             ],
             [
              0.5555555555555556,
              "#d8576b"
             ],
             [
              0.6666666666666666,
              "#ed7953"
             ],
             [
              0.7777777777777778,
              "#fb9f3a"
             ],
             [
              0.8888888888888888,
              "#fdca26"
             ],
             [
              1,
              "#f0f921"
             ]
            ],
            "type": "heatmapgl"
           }
          ],
          "histogram": [
           {
            "marker": {
             "pattern": {
              "fillmode": "overlay",
              "size": 10,
              "solidity": 0.2
             }
            },
            "type": "histogram"
           }
          ],
          "histogram2d": [
           {
            "colorbar": {
             "outlinewidth": 0,
             "ticks": ""
            },
            "colorscale": [
             [
              0,
              "#0d0887"
             ],
             [
              0.1111111111111111,
              "#46039f"
             ],
             [
              0.2222222222222222,
              "#7201a8"
             ],
             [
              0.3333333333333333,
              "#9c179e"
             ],
             [
              0.4444444444444444,
              "#bd3786"
             ],
             [
              0.5555555555555556,
              "#d8576b"
             ],
             [
              0.6666666666666666,
              "#ed7953"
             ],
             [
              0.7777777777777778,
              "#fb9f3a"
             ],
             [
              0.8888888888888888,
              "#fdca26"
             ],
             [
              1,
              "#f0f921"
             ]
            ],
            "type": "histogram2d"
           }
          ],
          "histogram2dcontour": [
           {
            "colorbar": {
             "outlinewidth": 0,
             "ticks": ""
            },
            "colorscale": [
             [
              0,
              "#0d0887"
             ],
             [
              0.1111111111111111,
              "#46039f"
             ],
             [
              0.2222222222222222,
              "#7201a8"
             ],
             [
              0.3333333333333333,
              "#9c179e"
             ],
             [
              0.4444444444444444,
              "#bd3786"
             ],
             [
              0.5555555555555556,
              "#d8576b"
             ],
             [
              0.6666666666666666,
              "#ed7953"
             ],
             [
              0.7777777777777778,
              "#fb9f3a"
             ],
             [
              0.8888888888888888,
              "#fdca26"
             ],
             [
              1,
              "#f0f921"
             ]
            ],
            "type": "histogram2dcontour"
           }
          ],
          "mesh3d": [
           {
            "colorbar": {
             "outlinewidth": 0,
             "ticks": ""
            },
            "type": "mesh3d"
           }
          ],
          "parcoords": [
           {
            "line": {
             "colorbar": {
              "outlinewidth": 0,
              "ticks": ""
             }
            },
            "type": "parcoords"
           }
          ],
          "pie": [
           {
            "automargin": true,
            "type": "pie"
           }
          ],
          "scatter": [
           {
            "fillpattern": {
             "fillmode": "overlay",
             "size": 10,
             "solidity": 0.2
            },
            "type": "scatter"
           }
          ],
          "scatter3d": [
           {
            "line": {
             "colorbar": {
              "outlinewidth": 0,
              "ticks": ""
             }
            },
            "marker": {
             "colorbar": {
              "outlinewidth": 0,
              "ticks": ""
             }
            },
            "type": "scatter3d"
           }
          ],
          "scattercarpet": [
           {
            "marker": {
             "colorbar": {
              "outlinewidth": 0,
              "ticks": ""
             }
            },
            "type": "scattercarpet"
           }
          ],
          "scattergeo": [
           {
            "marker": {
             "colorbar": {
              "outlinewidth": 0,
              "ticks": ""
             }
            },
            "type": "scattergeo"
           }
          ],
          "scattergl": [
           {
            "marker": {
             "colorbar": {
              "outlinewidth": 0,
              "ticks": ""
             }
            },
            "type": "scattergl"
           }
          ],
          "scattermapbox": [
           {
            "marker": {
             "colorbar": {
              "outlinewidth": 0,
              "ticks": ""
             }
            },
            "type": "scattermapbox"
           }
          ],
          "scatterpolar": [
           {
            "marker": {
             "colorbar": {
              "outlinewidth": 0,
              "ticks": ""
             }
            },
            "type": "scatterpolar"
           }
          ],
          "scatterpolargl": [
           {
            "marker": {
             "colorbar": {
              "outlinewidth": 0,
              "ticks": ""
             }
            },
            "type": "scatterpolargl"
           }
          ],
          "scatterternary": [
           {
            "marker": {
             "colorbar": {
              "outlinewidth": 0,
              "ticks": ""
             }
            },
            "type": "scatterternary"
           }
          ],
          "surface": [
           {
            "colorbar": {
             "outlinewidth": 0,
             "ticks": ""
            },
            "colorscale": [
             [
              0,
              "#0d0887"
             ],
             [
              0.1111111111111111,
              "#46039f"
             ],
             [
              0.2222222222222222,
              "#7201a8"
             ],
             [
              0.3333333333333333,
              "#9c179e"
             ],
             [
              0.4444444444444444,
              "#bd3786"
             ],
             [
              0.5555555555555556,
              "#d8576b"
             ],
             [
              0.6666666666666666,
              "#ed7953"
             ],
             [
              0.7777777777777778,
              "#fb9f3a"
             ],
             [
              0.8888888888888888,
              "#fdca26"
             ],
             [
              1,
              "#f0f921"
             ]
            ],
            "type": "surface"
           }
          ],
          "table": [
           {
            "cells": {
             "fill": {
              "color": "#EBF0F8"
             },
             "line": {
              "color": "white"
             }
            },
            "header": {
             "fill": {
              "color": "#C8D4E3"
             },
             "line": {
              "color": "white"
             }
            },
            "type": "table"
           }
          ]
         },
         "layout": {
          "annotationdefaults": {
           "arrowcolor": "#2a3f5f",
           "arrowhead": 0,
           "arrowwidth": 1
          },
          "autotypenumbers": "strict",
          "coloraxis": {
           "colorbar": {
            "outlinewidth": 0,
            "ticks": ""
           }
          },
          "colorscale": {
           "diverging": [
            [
             0,
             "#8e0152"
            ],
            [
             0.1,
             "#c51b7d"
            ],
            [
             0.2,
             "#de77ae"
            ],
            [
             0.3,
             "#f1b6da"
            ],
            [
             0.4,
             "#fde0ef"
            ],
            [
             0.5,
             "#f7f7f7"
            ],
            [
             0.6,
             "#e6f5d0"
            ],
            [
             0.7,
             "#b8e186"
            ],
            [
             0.8,
             "#7fbc41"
            ],
            [
             0.9,
             "#4d9221"
            ],
            [
             1,
             "#276419"
            ]
           ],
           "sequential": [
            [
             0,
             "#0d0887"
            ],
            [
             0.1111111111111111,
             "#46039f"
            ],
            [
             0.2222222222222222,
             "#7201a8"
            ],
            [
             0.3333333333333333,
             "#9c179e"
            ],
            [
             0.4444444444444444,
             "#bd3786"
            ],
            [
             0.5555555555555556,
             "#d8576b"
            ],
            [
             0.6666666666666666,
             "#ed7953"
            ],
            [
             0.7777777777777778,
             "#fb9f3a"
            ],
            [
             0.8888888888888888,
             "#fdca26"
            ],
            [
             1,
             "#f0f921"
            ]
           ],
           "sequentialminus": [
            [
             0,
             "#0d0887"
            ],
            [
             0.1111111111111111,
             "#46039f"
            ],
            [
             0.2222222222222222,
             "#7201a8"
            ],
            [
             0.3333333333333333,
             "#9c179e"
            ],
            [
             0.4444444444444444,
             "#bd3786"
            ],
            [
             0.5555555555555556,
             "#d8576b"
            ],
            [
             0.6666666666666666,
             "#ed7953"
            ],
            [
             0.7777777777777778,
             "#fb9f3a"
            ],
            [
             0.8888888888888888,
             "#fdca26"
            ],
            [
             1,
             "#f0f921"
            ]
           ]
          },
          "colorway": [
           "#636efa",
           "#EF553B",
           "#00cc96",
           "#ab63fa",
           "#FFA15A",
           "#19d3f3",
           "#FF6692",
           "#B6E880",
           "#FF97FF",
           "#FECB52"
          ],
          "font": {
           "color": "#2a3f5f"
          },
          "geo": {
           "bgcolor": "white",
           "lakecolor": "white",
           "landcolor": "#E5ECF6",
           "showlakes": true,
           "showland": true,
           "subunitcolor": "white"
          },
          "hoverlabel": {
           "align": "left"
          },
          "hovermode": "closest",
          "mapbox": {
           "style": "light"
          },
          "paper_bgcolor": "white",
          "plot_bgcolor": "#E5ECF6",
          "polar": {
           "angularaxis": {
            "gridcolor": "white",
            "linecolor": "white",
            "ticks": ""
           },
           "bgcolor": "#E5ECF6",
           "radialaxis": {
            "gridcolor": "white",
            "linecolor": "white",
            "ticks": ""
           }
          },
          "scene": {
           "xaxis": {
            "backgroundcolor": "#E5ECF6",
            "gridcolor": "white",
            "gridwidth": 2,
            "linecolor": "white",
            "showbackground": true,
            "ticks": "",
            "zerolinecolor": "white"
           },
           "yaxis": {
            "backgroundcolor": "#E5ECF6",
            "gridcolor": "white",
            "gridwidth": 2,
            "linecolor": "white",
            "showbackground": true,
            "ticks": "",
            "zerolinecolor": "white"
           },
           "zaxis": {
            "backgroundcolor": "#E5ECF6",
            "gridcolor": "white",
            "gridwidth": 2,
            "linecolor": "white",
            "showbackground": true,
            "ticks": "",
            "zerolinecolor": "white"
           }
          },
          "shapedefaults": {
           "line": {
            "color": "#2a3f5f"
           }
          },
          "ternary": {
           "aaxis": {
            "gridcolor": "white",
            "linecolor": "white",
            "ticks": ""
           },
           "baxis": {
            "gridcolor": "white",
            "linecolor": "white",
            "ticks": ""
           },
           "bgcolor": "#E5ECF6",
           "caxis": {
            "gridcolor": "white",
            "linecolor": "white",
            "ticks": ""
           }
          },
          "title": {
           "x": 0.05
          },
          "xaxis": {
           "automargin": true,
           "gridcolor": "white",
           "linecolor": "white",
           "ticks": "",
           "title": {
            "standoff": 15
           },
           "zerolinecolor": "white",
           "zerolinewidth": 2
          },
          "yaxis": {
           "automargin": true,
           "gridcolor": "white",
           "linecolor": "white",
           "ticks": "",
           "title": {
            "standoff": 15
           },
           "zerolinecolor": "white",
           "zerolinewidth": 2
          }
         }
        },
        "title": {
         "text": "50 Most Common Words"
        },
        "xaxis": {
         "anchor": "y",
         "domain": [
          0,
          1
         ],
         "tickangle": -90,
         "title": {
          "text": "Token"
         }
        },
        "yaxis": {
         "anchor": "x",
         "domain": [
          0,
          1
         ],
         "title": {
          "text": "Frequency"
         }
        }
       }
      }
     },
     "metadata": {},
     "output_type": "display_data"
    }
   ],
   "source": [
    "# Flatten the list of tokens and count the frequency of each token\n",
    "all_tokens = [token for sublist in texts_tokens for token in sublist]\n",
    "token_freq = Counter(all_tokens)\n",
    "\n",
    "# Get the 50 most common words\n",
    "common_tokens = token_freq.most_common(50)\n",
    "\n",
    "# Convert to a DataFrame for easier plotting\n",
    "common_tokens_df = pd.DataFrame(common_tokens, columns=['Token', 'Frequency'])\n",
    "\n",
    "# Plotting with Plotly\n",
    "fig = px.bar(common_tokens_df, x='Token', y='Frequency', title='50 Most Common Words')\n",
    "fig.update_layout(xaxis_tickangle=-90)\n",
    "fig.show()"
   ]
  },
  {
   "cell_type": "code",
   "execution_count": 28,
   "metadata": {},
   "outputs": [
    {
     "data": {
      "text/plain": [
       "0       high form intimidation offence commit answer u...\n",
       "1       take life long time mbuhari sack drisapantami ...\n",
       "2       desmond elliot woman look like jellof rice way...\n",
       "3       cbn freeze account drisapantami cbn quick free...\n",
       "4       obiejazzyup yelesowore mbuhari endsar mbujari ...\n",
       "                              ...                        \n",
       "9732    yomishogunle policengpcrru policeng apologise ...\n",
       "9733    government policeng policengpcrru pretend see ...\n",
       "9734    endsar issue end sar issue reorientation niger...\n",
       "9735    u handsome suspect wear new shoe suspect hold ...\n",
       "9736    can not create change twitter organise march 3...\n",
       "Name: preprocess_content, Length: 9737, dtype: object"
      ]
     },
     "execution_count": 28,
     "metadata": {},
     "output_type": "execute_result"
    }
   ],
   "source": [
    "# Lemmatization\n",
    "def lemmatize(text):\n",
    "    doc = nlp(text)\n",
    "    return ' '.join([token.lemma_ for token in doc])\n",
    "\n",
    "texts_lemmatized = texts.apply(lemmatize)\n",
    "texts_lemmatized\n"
   ]
  },
  {
   "cell_type": "code",
   "execution_count": 34,
   "metadata": {},
   "outputs": [
    {
     "name": "stderr",
     "output_type": "stream",
     "text": [
      "pytorch_model.bin: 100%|██████████| 540M/540M [02:16<00:00, 3.95MB/s] \n",
      "tokenizer_config.json: 100%|██████████| 338/338 [00:00<00:00, 345kB/s]\n",
      "vocab.txt: 100%|██████████| 843k/843k [00:00<00:00, 1.07MB/s]\n",
      "bpe.codes: 100%|██████████| 1.08M/1.08M [00:00<00:00, 1.18MB/s]\n",
      "added_tokens.json: 100%|██████████| 22.0/22.0 [00:00<?, ?B/s]\n",
      "special_tokens_map.json: 100%|██████████| 167/167 [00:00<?, ?B/s] \n"
     ]
    }
   ],
   "source": [
    "# Load ABSA pipeline from Hugging Face\n",
    "from transformers import pipeline\n",
    "absa_pipeline = pipeline(\"sentiment-analysis\", model=\"finiteautomata/bertweet-base-sentiment-analysis\")\n",
    "\n",
    "# Sentiment analysis using ABSA\n",
    "def get_absa_sentiment(text):\n",
    "    result = absa_pipeline(text)\n",
    "    return result[0]['label'].lower()\n",
    "\n",
    "dataset['sentiment'] = texts_lemmatized.apply(get_absa_sentiment)"
   ]
  },
  {
   "cell_type": "code",
   "execution_count": 29,
   "metadata": {},
   "outputs": [
    {
     "data": {
      "text/plain": [
       "0       0.160000\n",
       "1       0.050000\n",
       "2       0.011111\n",
       "3       0.333333\n",
       "4       0.400000\n",
       "          ...   \n",
       "9732   -0.400000\n",
       "9733    0.000000\n",
       "9734    0.099375\n",
       "9735    0.234091\n",
       "9736    0.000000\n",
       "Name: preprocess_content, Length: 9737, dtype: float64"
      ]
     },
     "execution_count": 29,
     "metadata": {},
     "output_type": "execute_result"
    }
   ],
   "source": [
    "# Sentiment analysis using TextBlob\n",
    "def get_sentiment(text):\n",
    "    blob = TextBlob(text)\n",
    "    return blob.sentiment.polarity\n",
    "\n",
    "sentiments = texts_lemmatized.apply(get_sentiment)\n",
    "sentiments"
   ]
  },
  {
   "cell_type": "code",
   "execution_count": 30,
   "metadata": {},
   "outputs": [
    {
     "data": {
      "text/html": [
       "<div>\n",
       "<style scoped>\n",
       "    .dataframe tbody tr th:only-of-type {\n",
       "        vertical-align: middle;\n",
       "    }\n",
       "\n",
       "    .dataframe tbody tr th {\n",
       "        vertical-align: top;\n",
       "    }\n",
       "\n",
       "    .dataframe thead th {\n",
       "        text-align: right;\n",
       "    }\n",
       "</style>\n",
       "<table border=\"1\" class=\"dataframe\">\n",
       "  <thead>\n",
       "    <tr style=\"text-align: right;\">\n",
       "      <th></th>\n",
       "      <th>username</th>\n",
       "      <th>date</th>\n",
       "      <th>content</th>\n",
       "      <th>preprocess_content</th>\n",
       "      <th>sentiment</th>\n",
       "    </tr>\n",
       "  </thead>\n",
       "  <tbody>\n",
       "    <tr>\n",
       "      <th>0</th>\n",
       "      <td>4928</td>\n",
       "      <td>2021-04-22</td>\n",
       "      <td>This is the highest form of intimidation\\nWhat...</td>\n",
       "      <td>highest form intimidation offence commit answe...</td>\n",
       "      <td>positive</td>\n",
       "    </tr>\n",
       "    <tr>\n",
       "      <th>1</th>\n",
       "      <td>382</td>\n",
       "      <td>2021-04-22</td>\n",
       "      <td>Why is it taking a life long time for @MBuhari...</td>\n",
       "      <td>taking life long time mbuhari sack drisapantam...</td>\n",
       "      <td>positive</td>\n",
       "    </tr>\n",
       "    <tr>\n",
       "      <th>2</th>\n",
       "      <td>5768</td>\n",
       "      <td>2021-04-22</td>\n",
       "      <td>Even Desmond Elliot is quite , ,,, what is tha...</td>\n",
       "      <td>desmond elliot womans look like jellof rice wa...</td>\n",
       "      <td>positive</td>\n",
       "    </tr>\n",
       "    <tr>\n",
       "      <th>3</th>\n",
       "      <td>1441</td>\n",
       "      <td>2021-04-22</td>\n",
       "      <td>When will CBN freeze the account of @DrIsaPant...</td>\n",
       "      <td>cbn freeze account drisapantami cbn quick free...</td>\n",
       "      <td>positive</td>\n",
       "    </tr>\n",
       "    <tr>\n",
       "      <th>4</th>\n",
       "      <td>4045</td>\n",
       "      <td>2021-04-22</td>\n",
       "      <td>@Obiejazzyup @YeleSowore @MBuhari @EndSars @mb...</td>\n",
       "      <td>obiejazzyup yelesowore mbuhari endsars mbujari...</td>\n",
       "      <td>positive</td>\n",
       "    </tr>\n",
       "  </tbody>\n",
       "</table>\n",
       "</div>"
      ],
      "text/plain": [
       "   username        date                                            content  \\\n",
       "0      4928  2021-04-22  This is the highest form of intimidation\\nWhat...   \n",
       "1       382  2021-04-22  Why is it taking a life long time for @MBuhari...   \n",
       "2      5768  2021-04-22  Even Desmond Elliot is quite , ,,, what is tha...   \n",
       "3      1441  2021-04-22  When will CBN freeze the account of @DrIsaPant...   \n",
       "4      4045  2021-04-22  @Obiejazzyup @YeleSowore @MBuhari @EndSars @mb...   \n",
       "\n",
       "                                  preprocess_content sentiment  \n",
       "0  highest form intimidation offence commit answe...  positive  \n",
       "1  taking life long time mbuhari sack drisapantam...  positive  \n",
       "2  desmond elliot womans look like jellof rice wa...  positive  \n",
       "3  cbn freeze account drisapantami cbn quick free...  positive  \n",
       "4  obiejazzyup yelesowore mbuhari endsars mbujari...  positive  "
      ]
     },
     "execution_count": 30,
     "metadata": {},
     "output_type": "execute_result"
    }
   ],
   "source": [
    "# Labeling sentiment\n",
    "def label_sentiment(polarity):\n",
    "    if polarity > 0:\n",
    "        return 'positive'\n",
    "    elif polarity < 0:\n",
    "        return 'negative'\n",
    "    else:\n",
    "        return 'neutral'\n",
    "\n",
    "dataset['sentiment'] = sentiments.apply(label_sentiment)\n",
    "dataset.head()"
   ]
  },
  {
   "cell_type": "code",
   "execution_count": 32,
   "metadata": {},
   "outputs": [
    {
     "data": {
      "image/png": "[encoded data removed]",
      "text/plain": [
       "<Figure size 640x480 with 1 Axes>"
      ]
     },
     "metadata": {},
     "output_type": "display_data"
    }
   ],
   "source": [
    "# Sentiment distribution\n",
    "sentiment_dist = dataset['sentiment'].value_counts()\n",
    "\n",
    "plt.pie(sentiment_dist, labels=sentiment_dist.index, explode=(0.1, 0, 0),\n",
    "        colors=['yellowgreen', 'gold', 'lightcoral'],\n",
    "        autopct='%1.1f%%', shadow=True, startangle=140)\n",
    "plt.title(\"Tweets' Sentiment Distribution \\n\", fontsize=16, color='Black')\n",
    "plt.axis('equal')\n",
    "plt.tight_layout()\n",
    "plt.show()"
   ]
  }
 ],
 "metadata": {
  "kernelspec": {
   "display_name": "Python 3",
   "language": "python",
   "name": "python3"
  },
  "language_info": {
   "codemirror_mode": {
    "name": "ipython",
    "version": 3
   },
   "file_extension": ".py",
   "mimetype": "text/x-python",
   "name": "python",
   "nbconvert_exporter": "python",
   "pygments_lexer": "ipython3",
   "version": "3.11.5"
  }
 },
 "nbformat": 4,
 "nbformat_minor": 2
}
